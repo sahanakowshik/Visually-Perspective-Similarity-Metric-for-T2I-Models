{
  "cells": [
    {
      "cell_type": "code",
      "execution_count": 1,
      "metadata": {
        "id": "ZOa0bsJZH2Uq"
      },
      "outputs": [],
      "source": [
        "import tensorflow as tf\n",
        "import tensorflow_datasets as tfds\n",
        "import numpy as np"
      ]
    },
    {
      "cell_type": "code",
      "execution_count": 2,
      "metadata": {
        "colab": {
          "base_uri": "https://localhost:8080/"
        },
        "id": "eL4MbcVpKLJA",
        "outputId": "c6f81bbc-09d5-47cc-e5c7-e2fcc66e93a1"
      },
      "outputs": [
        {
          "name": "stdout",
          "output_type": "stream",
          "text": [
            "Model: \"model\"\n",
            "_________________________________________________________________\n",
            " Layer (type)                Output Shape              Param #   \n",
            "=================================================================\n",
            " input_1 (InputLayer)        [(None, 224, 224, 3)]     0         \n",
            "                                                                 \n",
            " block1_conv1 (Conv2D)       (None, 224, 224, 64)      1792      \n",
            "                                                                 \n",
            " block1_conv2 (Conv2D)       (None, 224, 224, 64)      36928     \n",
            "                                                                 \n",
            " block1_pool (MaxPooling2D)  (None, 112, 112, 64)      0         \n",
            "                                                                 \n",
            " block2_conv1 (Conv2D)       (None, 112, 112, 128)     73856     \n",
            "                                                                 \n",
            " block2_conv2 (Conv2D)       (None, 112, 112, 128)     147584    \n",
            "                                                                 \n",
            " block2_pool (MaxPooling2D)  (None, 56, 56, 128)       0         \n",
            "                                                                 \n",
            " block3_conv1 (Conv2D)       (None, 56, 56, 256)       295168    \n",
            "                                                                 \n",
            " block3_conv2 (Conv2D)       (None, 56, 56, 256)       590080    \n",
            "                                                                 \n",
            " block3_conv3 (Conv2D)       (None, 56, 56, 256)       590080    \n",
            "                                                                 \n",
            " block3_pool (MaxPooling2D)  (None, 28, 28, 256)       0         \n",
            "                                                                 \n",
            " block4_conv1 (Conv2D)       (None, 28, 28, 512)       1180160   \n",
            "                                                                 \n",
            " block4_conv2 (Conv2D)       (None, 28, 28, 512)       2359808   \n",
            "                                                                 \n",
            " block4_conv3 (Conv2D)       (None, 28, 28, 512)       2359808   \n",
            "                                                                 \n",
            " block4_pool (MaxPooling2D)  (None, 14, 14, 512)       0         \n",
            "                                                                 \n",
            " block5_conv1 (Conv2D)       (None, 14, 14, 512)       2359808   \n",
            "                                                                 \n",
            " block5_conv2 (Conv2D)       (None, 14, 14, 512)       2359808   \n",
            "                                                                 \n",
            " block5_conv3 (Conv2D)       (None, 14, 14, 512)       2359808   \n",
            "                                                                 \n",
            " block5_pool (MaxPooling2D)  (None, 7, 7, 512)         0         \n",
            "                                                                 \n",
            " flatten (Flatten)           (None, 25088)             0         \n",
            "                                                                 \n",
            " fc1 (Dense)                 (None, 4096)              102764544 \n",
            "                                                                 \n",
            " fc2 (Dense)                 (None, 4096)              16781312  \n",
            "                                                                 \n",
            "=================================================================\n",
            "Total params: 134,260,544\n",
            "Trainable params: 0\n",
            "Non-trainable params: 134,260,544\n",
            "_________________________________________________________________\n"
          ]
        }
      ],
      "source": [
        "VGG16 = tf.keras.applications.VGG16(include_top=True, weights='imagenet')\n",
        "x = VGG16.layers[-2].output\n",
        "SIMILARITY_MODEL = tf.keras.Model(inputs = VGG16.input, outputs = x)\n",
        "SIMILARITY_MODEL.trainable = False\n",
        "SIMILARITY_MODEL.summary()"
      ]
    },
    {
      "cell_type": "code",
      "execution_count": 3,
      "metadata": {
        "colab": {
          "base_uri": "https://localhost:8080/"
        },
        "id": "bJE5BJExJ_d-",
        "outputId": "72fa50bc-58f8-4cc4-dac5-8fc43dd1cf6e"
      },
      "outputs": [
        {
          "name": "stdout",
          "output_type": "stream",
          "text": [
            "<PrefetchDataset element_spec={'file_name': TensorSpec(shape=(), dtype=tf.string, name=None), 'image': TensorSpec(shape=(None, None, 3), dtype=tf.uint8, name=None), 'label': TensorSpec(shape=(), dtype=tf.int64, name=None)}>\n"
          ]
        }
      ],
      "source": [
        "dataset = tfds.load('imagenet_v2', split='all')\n",
        "print(dataset)"
      ]
    },
    {
      "cell_type": "code",
      "execution_count": 4,
      "metadata": {
        "id": "F7I9-33GNnVK"
      },
      "outputs": [],
      "source": [
        "# Helper functions\n",
        "def image_to_feature_vector(img):\n",
        "    return np.array(tf.squeeze(SIMILARITY_MODEL(tf.expand_dims(img, 0))))\n",
        "\n",
        "from numpy.linalg import norm\n",
        "def similarity(v1, v2):\n",
        "    v1 /= norm(v1)\n",
        "    v2 /= norm(v2)\n",
        "    return 1. - norm(v2 - v1)"
      ]
    },
    {
      "cell_type": "code",
      "execution_count": 5,
      "metadata": {
        "colab": {
          "base_uri": "https://localhost:8080/"
        },
        "id": "CDqTsLKILy3f",
        "outputId": "d3b0f7cd-b732-4ba6-f686-da8f21a21ea5"
      },
      "outputs": [
        {
          "name": "stdout",
          "output_type": "stream",
          "text": [
            "N(0, 0.01): 0.9923350760763279 0.0027573414359894403\n",
            "N(0, 0.05): 0.9493309781984426 0.016636714970255224\n",
            "N(0, 0.1): 0.9138069752678275 0.024010484309535816\n",
            "U[-0.05, 0.05]: 0.9720541157659609 0.009796554531210038\n",
            "U[-0.1, 0.1]: 0.9417895949799567 0.01857311282785243\n",
            "U[-0.2, 0.2]: 0.9068605818971992 0.024809241848446253\n",
            "Opposite: 0.7913540313020349 0.04939184221451637\n"
          ]
        }
      ],
      "source": [
        "result_gaussian_noise_1 = []\n",
        "result_gaussian_noise_2 = []\n",
        "result_gaussian_noise_3 = []\n",
        "result_uniform_noise_1 = []\n",
        "result_uniform_noise_2 = []\n",
        "result_uniform_noise_3 = []\n",
        "result_opposite = []\n",
        "mean = np.array([0.485, 0.456, 0.406])\n",
        "std = np.array([0.229, 0.224, 0.225])\n",
        "counter = 0\n",
        "\n",
        "for example in dataset:\n",
        "    if counter == 1000:\n",
        "        break\n",
        "    image = tf.image.resize_with_pad(example[\"image\"], 224, 224)\n",
        "    # Normalize\n",
        "    image = tf.math.divide(image, 255.)\n",
        "    image = tf.math.subtract(image, mean)\n",
        "    image = tf.math.divide(image, std)\n",
        "\n",
        "    base = image_to_feature_vector(image)\n",
        "    gaussian_noise_1 = image_to_feature_vector(image + np.random.normal(0., 0.01, size=image.shape))\n",
        "    gaussian_noise_2 = image_to_feature_vector(image + np.random.normal(0., 0.05, size=image.shape))\n",
        "    gaussian_noise_3 = image_to_feature_vector(image + np.random.normal(0., 0.1, size=image.shape))\n",
        "    uniform_noise_1 = image_to_feature_vector(image + np.random.uniform(low=-0.05, high=0.05, size=image.shape))\n",
        "    uniform_noise_2 = image_to_feature_vector(image + np.random.uniform(low=-0.1, high=0.1, size=image.shape))\n",
        "    uniform_noise_3 = image_to_feature_vector(image + np.random.uniform(low=-0.2, high=0.2, size=image.shape))\n",
        "    opposite = image_to_feature_vector(1 - image)\n",
        "\n",
        "    result_gaussian_noise_1.append(similarity(base, gaussian_noise_1))\n",
        "    result_gaussian_noise_2.append(similarity(base, gaussian_noise_2))\n",
        "    result_gaussian_noise_3.append(similarity(base, gaussian_noise_3))\n",
        "    result_uniform_noise_1.append(similarity(base, uniform_noise_1))\n",
        "    result_uniform_noise_2.append(similarity(base, uniform_noise_2))\n",
        "    result_uniform_noise_3.append(similarity(base, uniform_noise_3))\n",
        "    result_opposite.append(similarity(base, opposite))\n",
        "\n",
        "    counter += 1\n",
        "\n",
        "result_gaussian_noise_1 = np.array(result_gaussian_noise_1)\n",
        "result_gaussian_noise_2 = np.array(result_gaussian_noise_2)\n",
        "result_gaussian_noise_3 = np.array(result_gaussian_noise_3)\n",
        "result_uniform_noise_1 = np.array(result_uniform_noise_1)\n",
        "result_uniform_noise_2 = np.array(result_uniform_noise_2)\n",
        "result_uniform_noise_3 = np.array(result_uniform_noise_3)\n",
        "result_opposite = np.array(result_opposite)\n",
        "\n",
        "print(\"N(0, 0.01):\", np.mean(result_gaussian_noise_1), np.std(result_gaussian_noise_1))\n",
        "print(\"N(0, 0.05):\", np.mean(result_gaussian_noise_2), np.std(result_gaussian_noise_2))\n",
        "print(\"N(0, 0.1):\", np.mean(result_gaussian_noise_3), np.std(result_gaussian_noise_3))\n",
        "print(\"U[-0.05, 0.05]:\", np.mean(result_uniform_noise_1), np.std(result_uniform_noise_1))\n",
        "print(\"U[-0.1, 0.1]:\", np.mean(result_uniform_noise_2), np.std(result_uniform_noise_2))\n",
        "print(\"U[-0.2, 0.2]:\", np.mean(result_uniform_noise_3), np.std(result_uniform_noise_3))\n",
        "print(\"Opposite:\", np.mean(result_opposite), np.std(result_opposite))"
      ]
    }
  ],
  "metadata": {
    "accelerator": "GPU",
    "colab": {
      "provenance": []
    },
    "gpuClass": "standard",
    "kernelspec": {
      "display_name": "Python 3.8.3",
      "language": "python",
      "name": "python3"
    },
    "language_info": {
      "name": "python",
      "version": "3.8.3"
    },
    "vscode": {
      "interpreter": {
        "hash": "c710fb56eb8a424639b774445b68a089fceea3db132060601e1ae5682d789ba1"
      }
    }
  },
  "nbformat": 4,
  "nbformat_minor": 0
}
